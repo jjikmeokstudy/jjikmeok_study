{
 "cells": [
  {
   "cell_type": "markdown",
   "id": "312ec75e",
   "metadata": {},
   "source": [
    "# 파이썬 기초 배워보기\n",
    "\n",
    "이번 장에서는 변수와 상수, 데이터의 타입, 제어문, 함수 등 기본적인 파이썬 문법과 패키지를 사용하는 방법에 대해 살펴보도록 하겠다.\n",
    "\n",
    "## 상수와 변수\n",
    "\n",
    "프로그래밍의 가장 기본은 **상수**와 **변수**이다. 먼저 아래의 코드를 실행해보자."
   ]
  },
  {
   "cell_type": "code",
   "execution_count": null,
   "id": "c77df616",
   "metadata": {
    "scrolled": true
   },
   "outputs": [],
   "source": [
    "var = 10\n",
    "print(var)"
   ]
  },
  {
   "cell_type": "markdown",
   "id": "df913cf9",
   "metadata": {},
   "source": [
    "10 이라는 숫자 혹은 문자와 같은 값 자체를 상수(constant)라고 한다. 반면 이러한 상수가 저장된 공간인 var는 변수(variable)라고 한다. `var = 10`은 var라는 변수에 10을 할당(저장)하라는 의미다. `print()`는 결과물을 출력하는 함수로써, var의 내용을 출력한다."
   ]
  },
  {
   "cell_type": "code",
   "execution_count": null,
   "id": "f225dfb3",
   "metadata": {},
   "outputs": [],
   "source": [
    "var = 'Hello World'\n",
    "print(var)"
   ]
  },
  {
   "cell_type": "markdown",
   "id": "de32a0ac",
   "metadata": {},
   "source": [
    "var라는 변수에 새롭게 'Hello World'라는 상수(문자)를 입력하였더니 그 값이 바뀌었다. "
   ]
  },
  {
   "cell_type": "code",
   "execution_count": null,
   "id": "959b481b",
   "metadata": {},
   "outputs": [],
   "source": [
    "var1 = 1\n",
    "var2 = 2\n",
    "\n",
    "print(var1 + var2)"
   ]
  },
  {
   "cell_type": "markdown",
   "id": "80087eb7",
   "metadata": {},
   "source": [
    "var1이라는 변수에는 1이라는 숫자가, var2이라는 변수에는 2라는 숫자를 입력하였다. `var1 + var2`는 1+2와 같으므로 3이라는 결과가 출력된다."
   ]
  },
  {
   "cell_type": "code",
   "execution_count": null,
   "id": "4086084a",
   "metadata": {},
   "outputs": [],
   "source": [
    "var1 = 3\n",
    "print(var1 + var2)"
   ]
  },
  {
   "cell_type": "markdown",
   "id": "c307e144",
   "metadata": {},
   "source": [
    "var1이라는 변수에 다시 3이라는 숫자를 입력하면 `var1 + var2`는 3+2가 되므로 5라는 결과가 출력된다. 이처럼 변수에는 계속해서 다른 상수를 입력할 수 있다.\n",
    "\n",
    "## 자료형 (데이터 타입)\n",
    "\n",
    "파이썬에는 다양한 자료형이 존재하며, 이에 대해 하나씩 알아보도록 하자.\n",
    "\n",
    "### 숫자형\n",
    "\n",
    "숫자형(Number)은 정수나 실수와 같이 숫자 형태로 이루어진 데이터 타입이다. (8진수나 16진수도 있으나 거의 사용하지 않는다).\n",
    "\n",
    "먼저 정수형(Integer)이란 -2, -1, 0, 1, 2처럼 소수점을 사용하지 않고 숫자를 표현한 것이다. "
   ]
  },
  {
   "cell_type": "code",
   "execution_count": null,
   "id": "b5e72cd4",
   "metadata": {},
   "outputs": [],
   "source": [
    "type(1)"
   ]
  },
  {
   "cell_type": "markdown",
   "id": "383bd4dc",
   "metadata": {},
   "source": [
    "`type()` 함수는 데이터 타입을 확인해주는 역할을 한다. 1이라는 숫자의 타입을 확인해보면 int, 즉 정수임을 알 수 있다. 한편 실수형(Floating-point)이란 소수점이 포함된 숫자다. "
   ]
  },
  {
   "cell_type": "code",
   "execution_count": null,
   "id": "5d7e5f77",
   "metadata": {},
   "outputs": [],
   "source": [
    "type(1.0)"
   ]
  },
  {
   "cell_type": "markdown",
   "id": "fe933082",
   "metadata": {},
   "source": [
    "1.0이라는 숫자의 타입을 확인해보면 float, 즉 실수임을 알 수 있다. 일반적으로 1과 1.0은 동일한 숫자라고 생각할 수 있지만, 프로그래밍에서 정수형과 실수형은 엄밀하게는 다른 타입이다. \n",
    "\n",
    "#### 숫자형 연산하기\n",
    "\n",
    "숫자형은 다양한 연산이 가능하다."
   ]
  },
  {
   "cell_type": "code",
   "execution_count": null,
   "id": "fa3db626",
   "metadata": {},
   "outputs": [],
   "source": [
    "print(2 + 1)"
   ]
  },
  {
   "cell_type": "code",
   "execution_count": null,
   "id": "837ff6ca",
   "metadata": {},
   "outputs": [],
   "source": [
    "print(2 - 1)"
   ]
  },
  {
   "cell_type": "code",
   "execution_count": null,
   "id": "28428f0c",
   "metadata": {},
   "outputs": [],
   "source": [
    "print(2 * 3)"
   ]
  },
  {
   "cell_type": "code",
   "execution_count": null,
   "id": "1c8a3ffb",
   "metadata": {},
   "outputs": [],
   "source": [
    "print(6 / 2)"
   ]
  },
  {
   "cell_type": "markdown",
   "id": "3bbf5e35",
   "metadata": {},
   "source": [
    "파이썬에서는 기본적인 사칙연산(+, -, *, /)을 쉽게 할 수 있다. 이 외에도 다양한 연산자가 존재한다."
   ]
  },
  {
   "cell_type": "code",
   "execution_count": null,
   "id": "21289a33",
   "metadata": {},
   "outputs": [],
   "source": [
    "3 ** 2"
   ]
  },
  {
   "cell_type": "markdown",
   "id": "8f6eb20e",
   "metadata": {},
   "source": [
    "연산자 `**` 는 제곱을 의미한다. 즉 `3**2`는 $3^2$ 을 의미한다."
   ]
  },
  {
   "cell_type": "code",
   "execution_count": null,
   "id": "8507ed68",
   "metadata": {},
   "outputs": [],
   "source": [
    "7 // 3"
   ]
  },
  {
   "cell_type": "markdown",
   "id": "0de0f848",
   "metadata": {},
   "source": [
    "연산자 `//`는 나눗셈의 몫을 반환한다. 7을 3으로 나누면 몫은 2가 된다."
   ]
  },
  {
   "cell_type": "code",
   "execution_count": null,
   "id": "923cc94c",
   "metadata": {},
   "outputs": [],
   "source": [
    "7 % 3"
   ]
  },
  {
   "cell_type": "markdown",
   "id": "57535311",
   "metadata": {},
   "source": [
    "연산자 `%`는 나눗셈의 나머지를 반환한다. 7을 3으로 나누면 몫은 2가 되며 나머지는 1이 된다.\n",
    "\n",
    "### 문자열\n",
    "\n",
    "문자열(String)이란 문자, 단어 등으로 구성된 문자들의 집합을 의미한다."
   ]
  },
  {
   "cell_type": "code",
   "execution_count": null,
   "id": "d4cd1bf8",
   "metadata": {
    "deletable": false,
    "editable": false,
    "run_control": {
     "frozen": true
    }
   },
   "outputs": [],
   "source": [
    "\"Hello World\""
   ]
  },
  {
   "cell_type": "markdown",
   "id": "2190f100",
   "metadata": {},
   "source": [
    "먼저 큰 따옴표(\")로 양쪽을 둘러싸서 문자열을 만들 수 있다."
   ]
  },
  {
   "cell_type": "code",
   "execution_count": null,
   "id": "6bc53a96",
   "metadata": {
    "deletable": false,
    "editable": false,
    "run_control": {
     "frozen": true
    }
   },
   "outputs": [],
   "source": [
    "'Hello World'"
   ]
  },
  {
   "cell_type": "markdown",
   "id": "cbd048f1",
   "metadata": {},
   "source": [
    "작은 따옴표(')로 양쪽을 둘러싸서도 문자열을 만들 수 있다."
   ]
  },
  {
   "cell_type": "markdown",
   "id": "3813a079",
   "metadata": {},
   "source": [
    "파이썬에서는 문자열도 더하거나 곱할 수 있다."
   ]
  },
  {
   "cell_type": "code",
   "execution_count": null,
   "id": "84a696fb",
   "metadata": {},
   "outputs": [],
   "source": [
    "a = 'Hello'\n",
    "b = ' World'\n",
    "\n",
    "a + b"
   ]
  },
  {
   "cell_type": "markdown",
   "id": "1eae6f9b",
   "metadata": {},
   "source": [
    "a라는 변수에 'Hello'라는 글자를, b라는 변수에 ' World'라는 글자를 입력한 후 두 변수를 더하면 두 글자가 합쳐진다."
   ]
  },
  {
   "cell_type": "code",
   "execution_count": null,
   "id": "306a1d35",
   "metadata": {},
   "outputs": [],
   "source": [
    "c = 'KU'\n",
    "\n",
    "c * 3"
   ]
  },
  {
   "cell_type": "markdown",
   "id": "a705ebc3",
   "metadata": {},
   "source": [
    "이번에는 c라는 변수에 'KU'를 입력한 후 3을 곱하면, c가 세 번 반복된다."
   ]
  },
  {
   "cell_type": "code",
   "execution_count": null,
   "id": "b93980f3",
   "metadata": {},
   "outputs": [],
   "source": [
    "a = 'Life is too short'\n",
    "len(a)"
   ]
  },
  {
   "cell_type": "markdown",
   "id": "f27c402b",
   "metadata": {},
   "source": [
    "'Life is too short'이라는 문장은 빈 칸을 포함하여 총 17 글자로 이루어져 있다."
   ]
  },
  {
   "cell_type": "markdown",
   "id": "de737986",
   "metadata": {},
   "source": [
    "[Example] '안녕하세요' 라는 문자열을 띄어쓰기 없이 연속으로 10번 출력하세요."
   ]
  },
  {
   "cell_type": "code",
   "execution_count": null,
   "id": "8ad9f155",
   "metadata": {},
   "outputs": [],
   "source": []
  },
  {
   "cell_type": "markdown",
   "id": "0c00c997",
   "metadata": {},
   "source": [
    "#### 문자열 나누기\n",
    "\n",
    "`split()` 메서드를 이용하면 문자열을 나눌 수 있다."
   ]
  },
  {
   "cell_type": "code",
   "execution_count": null,
   "id": "a4ee6ee2",
   "metadata": {},
   "outputs": [],
   "source": [
    "var = '퀀트 투자 포트폴리오 만들기'\n",
    "var.split(' ')"
   ]
  },
  {
   "cell_type": "markdown",
   "id": "7df4b84f",
   "metadata": {},
   "source": [
    "`split()` 메서드 내부에 값을 입력하면, 해당 값을 기준으로 문자열을 나눠준다. 위 예제에서는 공백(' ')을 기준으로 각각의 단어를 나누었다.\n",
    "\n",
    "#### 문자열 인덱싱과 슬라이싱\n",
    "\n",
    "인덱싱(Indexing)이란 문자열 중 특정 위치의 값을 가져오는 것이며, 슬라이싱(Slicing)이란 특정 범위에 해당하는 문자열을 가지고 오는 것이다."
   ]
  },
  {
   "attachments": {
    "image.png": {
     "image/png": "[encoded data removed]"
    }
   },
   "cell_type": "markdown",
   "id": "9ab8811e",
   "metadata": {},
   "source": [
    "![image.png](attachment:image.png)"
   ]
  },
  {
   "cell_type": "code",
   "execution_count": null,
   "id": "fe9dc94a",
   "metadata": {},
   "outputs": [],
   "source": [
    "var = 'Quant'\n",
    "\n",
    "var[2]"
   ]
  },
  {
   "cell_type": "markdown",
   "id": "cee9c923",
   "metadata": {},
   "source": [
    "인덱싱과 슬라이싱은 대괄호([ ])를 사용해서 표현한다. `var[2]`란 두번째 문자를 의미하며, 이에 해당하는 'a'이 출력되었다. **참고로 파이썬은 숫자를 1이 아닌 0부터 세므로** 'Quant'에서 Q는 `var[0]`, u는 `var[1]`, a는 `var[2]`에 해당한다."
   ]
  },
  {
   "cell_type": "code",
   "execution_count": null,
   "id": "933ffd91",
   "metadata": {},
   "outputs": [],
   "source": [
    "var[-2]"
   ]
  },
  {
   "cell_type": "markdown",
   "id": "2359e642",
   "metadata": {},
   "source": [
    "인덱싱에 마이너스(-) 기호를 붙이면 문자열을 뒤에서부터 읽는다. 즉 `var[-2]`은 뒤에서 두번째 문자를 의미하며 이에 해당하는 'n'이 출력되었다."
   ]
  },
  {
   "cell_type": "code",
   "execution_count": null,
   "id": "50f7e74a",
   "metadata": {},
   "outputs": [],
   "source": [
    "var[0:3]"
   ]
  },
  {
   "cell_type": "markdown",
   "id": "df50012a",
   "metadata": {},
   "source": [
    "슬라이싱은 [] 내부에 콜론(:) 기호를 사용하여 `시작:마지막`에 해당하는 문자를 출력한다. 즉 `var[0]` 부터 `var[3]`까지를 출력한다. 그런데 Quant에서 3에 해당하는 단어는 n임에도 불구하고 그 이전인 Qua 까지만 출력이 되었다. 이는 슬라이싱에서 `var[시작:마지막]`을 지정할 때 마지막 번호에 해당하는 단어는 포함되지 않기 때문이며, `var[0:3]`은 0 이상 3 미만에 해당하는 문자만 출력한다."
   ]
  },
  {
   "cell_type": "code",
   "execution_count": null,
   "id": "c58a028d",
   "metadata": {},
   "outputs": [],
   "source": [
    "var[:2]"
   ]
  },
  {
   "cell_type": "markdown",
   "id": "3f18f93e",
   "metadata": {},
   "source": [
    "시작에 해당하는 부분을 명시하지 않으면 처음(0)부터 2 미만까지의 문자를 출력한다."
   ]
  },
  {
   "cell_type": "code",
   "execution_count": null,
   "id": "f5906b72",
   "metadata": {},
   "outputs": [],
   "source": [
    "var[3: ]"
   ]
  },
  {
   "cell_type": "markdown",
   "id": "fc278004",
   "metadata": {},
   "source": [
    "반대로 마지막에 해당하는 부분을 명시하지 않으면 3부터 마지막까지 문자를 출력한다.\n",
    "\n",
    "[Example] 'Korea University'라는 문자열을 생성하고, 문자열 슬라이싱을 사용하여 'ea Uni'만을 출력하세요.\n"
   ]
  },
  {
   "cell_type": "code",
   "execution_count": null,
   "id": "65523e53",
   "metadata": {},
   "outputs": [],
   "source": []
  },
  {
   "cell_type": "markdown",
   "metadata": {},
   "source": [
    "\n",
    "### 불리언\n",
    "\n",
    "불리언(Boolean) 자료형이란 참(True) 혹은 거짓(False)을 나타내는 자료형으로, 이 두가지 값만을 가질 수 있다. 참고로 True와 False는 첫 문자는 항상 대문자로 사용해야 한다."
   ]
  },
  {
   "cell_type": "code",
   "execution_count": null,
   "metadata": {},
   "outputs": [],
   "source": [
    "var = True\n",
    "type(var)"
   ]
  },
  {
   "cell_type": "markdown",
   "metadata": {},
   "source": [
    "var 변수에 True를 입력한 후 타입을 확인해보면 bool, 즉 불리언 자료형임을 알 수 있다."
   ]
  },
  {
   "cell_type": "code",
   "execution_count": null,
   "metadata": {},
   "outputs": [],
   "source": [
    "1 == 1"
   ]
  },
  {
   "cell_type": "markdown",
   "metadata": {},
   "source": [
    "파이썬에서 `==` 는 양측 값이 같은지를 확인하는 비교연산자이다. 좌측의 1과 우측의 1은 같으므로 True 즉 참이 반환된다."
   ]
  },
  {
   "cell_type": "code",
   "execution_count": null,
   "metadata": {},
   "outputs": [],
   "source": [
    "1 != 2"
   ]
  },
  {
   "cell_type": "markdown",
   "id": "753ba041",
   "metadata": {},
   "source": [
    "`!=` 는 양측 값이 다른지를 확인하는 비교연산자이다. 좌측의 1과 우측의 2는 다르므로 역시나 True가 반환된다."
   ]
  },
  {
   "cell_type": "code",
   "execution_count": null,
   "id": "97fefed8",
   "metadata": {},
   "outputs": [],
   "source": [
    "bool(0)"
   ]
  },
  {
   "cell_type": "markdown",
   "metadata": {},
   "source": [
    "`bool()` 함수는 참(True)과 거짓(False)을 반환하는 함수다. 숫자 0은 False에 해당한다."
   ]
  },
  {
   "cell_type": "code",
   "execution_count": null,
   "metadata": {},
   "outputs": [],
   "source": [
    "bool(1)"
   ]
  },
  {
   "cell_type": "code",
   "execution_count": null,
   "metadata": {},
   "outputs": [],
   "source": [
    "bool(2)"
   ]
  },
  {
   "cell_type": "markdown",
   "metadata": {},
   "source": [
    "반면 0이 아닌 숫자는 True에 해당한다."
   ]
  },
  {
   "cell_type": "markdown",
   "id": "d2a59f4a",
   "metadata": {},
   "source": [
    "### 리스트\n",
    "\n",
    "파이썬에서는 연속된 데이터를 표현하기 위해 리스트(List) 자료형을 사용한다. "
   ]
  },
  {
   "cell_type": "code",
   "execution_count": null,
   "id": "507a669e",
   "metadata": {},
   "outputs": [],
   "source": [
    "a = []\n",
    "type(a)"
   ]
  },
  {
   "cell_type": "markdown",
   "id": "78f55da3",
   "metadata": {},
   "source": [
    "리스트는 대괄호([ ])를 이용하여 생성할 수 있으며, 아무 값도 입력하지 않을 경우 빈 리스트가 생성된다."
   ]
  },
  {
   "cell_type": "code",
   "execution_count": null,
   "id": "ebecd133",
   "metadata": {},
   "outputs": [],
   "source": [
    "list_num = [1, 2, 3]\n",
    "print(list_num)"
   ]
  },
  {
   "cell_type": "code",
   "execution_count": null,
   "id": "b634db25",
   "metadata": {},
   "outputs": [],
   "source": [
    "list_char = ['a', 'b', 'c']\n",
    "print(list_char)"
   ]
  },
  {
   "cell_type": "code",
   "execution_count": null,
   "id": "c528cb6e",
   "metadata": {},
   "outputs": [],
   "source": [
    "list_complex = [1, 'a', 2]\n",
    "print(list_complex)"
   ]
  },
  {
   "cell_type": "markdown",
   "id": "46ad7401",
   "metadata": {},
   "source": [
    "리스트 내부에 각 요소는 쉼표(,)를 이용해 구분해준다. 요소값은 숫자(list_num), 문자열(list_char), 혹은 숫자와 문자열(list_complex)을 함께 가질 수도 있다."
   ]
  },
  {
   "cell_type": "code",
   "execution_count": null,
   "id": "7a3ab21c",
   "metadata": {},
   "outputs": [],
   "source": [
    "list_nest = [1, 2, ['a', 'b']]\n",
    "print(list_nest)"
   ]
  },
  {
   "cell_type": "markdown",
   "id": "2894ca68",
   "metadata": {},
   "source": [
    "혹은 리스트 자체를 하나의 요솟값으로 가질 수도 있다. 즉 리스트 안에는 어떠한 자료형도 들어갈 수 있다.\n",
    "\n",
    "#### 리스트 인덱싱과 슬라이싱\n",
    "\n",
    "리스트도 문자열과 동일한 방법으로 인덱싱과 슬라이싱을 할 수 있다."
   ]
  },
  {
   "cell_type": "code",
   "execution_count": null,
   "id": "e24013f7",
   "metadata": {},
   "outputs": [],
   "source": [
    "var = [1, 2, ['a', 'b', 'c']]\n",
    "\n",
    "var[0]"
   ]
  },
  {
   "cell_type": "markdown",
   "id": "442b9864",
   "metadata": {},
   "source": [
    "문자열과 동일하게 `var[0]`을 입력할 경우 해당 요소값인 1이 출력된다."
   ]
  },
  {
   "cell_type": "code",
   "execution_count": null,
   "id": "0f8bc657",
   "metadata": {},
   "outputs": [],
   "source": [
    "var[2]"
   ]
  },
  {
   "cell_type": "markdown",
   "id": "0c66021d",
   "metadata": {},
   "source": [
    "`var[2]`를 입력할 경우 ['a', 'b', 'c']라는 리스트가 출력된다. 추가로 ['a', 'b', 'c'] 리스트에서 'a'라는 문자열만 추출하는 방법은 다음과 같다."
   ]
  },
  {
   "cell_type": "code",
   "execution_count": null,
   "id": "62c25bca",
   "metadata": {},
   "outputs": [],
   "source": [
    "var[2][0]"
   ]
  },
  {
   "cell_type": "markdown",
   "id": "194bc2f9",
   "metadata": {},
   "source": [
    "먼저 `var[2]`를 통해 ['a', 'b', 'c']를 추출하며, 뒤에 `[0]`을 추가적으로 붙여 첫번째 요소인 'a'가 출력된다. 이처럼 중첩된 리스트에서도 인덱싱은 여러번 하면 얼마든지 원하는 값을 선택할 수 있다. 이번에는 리스트의 슬라이싱에 대해서 살펴보자."
   ]
  },
  {
   "cell_type": "code",
   "execution_count": null,
   "id": "ba66bd4a",
   "metadata": {},
   "outputs": [],
   "source": [
    "var = [1, 2, 3, 4, 5]\n",
    "var[0:2]"
   ]
  },
  {
   "cell_type": "markdown",
   "metadata": {},
   "source": [
    "문자열의 슬라이싱과 동일하게 `var[0:2]`를 입력하면 리스트 a의 0 이상 2 미만에 해당하는 요소들이 출력된다."
   ]
  },
  {
   "cell_type": "markdown",
   "id": "ceb7b43d",
   "metadata": {},
   "source": [
    "\n",
    "\n",
    "#### 리스트 연산하기\n",
    "\n",
    "리스트도 `+`, `*` 연산을 제한적으로 사용할 수 있다. "
   ]
  },
  {
   "cell_type": "code",
   "execution_count": null,
   "id": "7968a427",
   "metadata": {},
   "outputs": [],
   "source": [
    "a = [1, 2, 3]\n",
    "b = [4, 5, 6]\n",
    "\n",
    "a+b"
   ]
  },
  {
   "cell_type": "markdown",
   "id": "d88d83c9",
   "metadata": {},
   "source": [
    "리스트 사이에 `+` 기호를 사용하면 두 리스트를 하나로 합친다. "
   ]
  },
  {
   "cell_type": "code",
   "execution_count": null,
   "id": "89eba221",
   "metadata": {},
   "outputs": [],
   "source": [
    "a = [1, 2, 3]\n",
    "a * 3"
   ]
  },
  {
   "cell_type": "markdown",
   "id": "de605d72",
   "metadata": {},
   "source": [
    "리스트에 `*` 기호를 사용하면 해당 리스트를 n번 반복한다.\n",
    "\n",
    "#### 리스트에 요소 추가하기\n",
    "\n",
    "다양한 방법을 통해 기존의 리스트에 새로운 데이터를 추가하거나 삽입할 수 있다."
   ]
  },
  {
   "cell_type": "code",
   "execution_count": null,
   "id": "1d06efaf",
   "metadata": {},
   "outputs": [],
   "source": [
    "var = [1, 2, 3]\n",
    "var.append(4)\n",
    "print(var)"
   ]
  },
  {
   "cell_type": "markdown",
   "id": "37cf0bae",
   "metadata": {},
   "source": [
    "`append()` 메서드는 기존의 리스트 맨 마지막에 데이터를 추가한다."
   ]
  },
  {
   "cell_type": "markdown",
   "id": "23ad2b47",
   "metadata": {},
   "source": [
    "\n",
    "\n",
    "#### 리스트의 수정과 삭제\n",
    "\n",
    "인덱싱과 슬라이싱을 이용하면 리스트의 요소를 수정 혹은 삭제할 수 있다."
   ]
  },
  {
   "cell_type": "code",
   "execution_count": null,
   "id": "9cc333d3",
   "metadata": {},
   "outputs": [],
   "source": [
    "var = [1,2,3,4,5]\n",
    "var[2] = 10\n",
    "print(var)"
   ]
  },
  {
   "cell_type": "markdown",
   "id": "3b03ba33",
   "metadata": {},
   "source": [
    "먼저 var라는 변수에 1부터 5까지 숫자로 구성된 리스트를 만들었다. 그 후 var의 두번재 요소에 10을 입력하면 해당 값으로 요소가 변경되었다."
   ]
  },
  {
   "cell_type": "code",
   "execution_count": null,
   "id": "0e3f97e6",
   "metadata": {},
   "outputs": [],
   "source": [
    "var[0 : 2] = ['가', '나']\n",
    "print(var)"
   ]
  },
  {
   "cell_type": "markdown",
   "id": "7f7e10eb",
   "metadata": {},
   "source": [
    "슬라이싱을 이용해 데이터를 수정할 수도 있다. `var[0 : 2]`는 0 부터 1 까지의 데이터를 의미하며, 해당 데이터를 ['가', '나']로 변경하였다.\n",
    "\n",
    "이번에는 리스트에서 요소를 삭제하는 방법에 대해 살펴보겠으며, 먼지 `del` 명령어를 사용하는 방법에 대해 알아보자."
   ]
  },
  {
   "cell_type": "code",
   "execution_count": null,
   "id": "cc50e413",
   "metadata": {},
   "outputs": [],
   "source": [
    "var = [1, 2, 3]\n",
    "del var[0]\n",
    "print(var)"
   ]
  },
  {
   "cell_type": "markdown",
   "id": "1f564b00",
   "metadata": {},
   "source": [
    "`del 객체`를 이용하여 데이터를 삭제할 수 있다. 위의 예제에서 `del var[0]`는 var에서 첫번째 요소를 삭제하라는 의미다. 인덱싱 뿐만 아니라 `dal var[0:2]`와 같이 슬라이싱을 통해서도 데이터를 삭제할 수 있다."
   ]
  },
  {
   "cell_type": "code",
   "execution_count": null,
   "id": "3a4bee93",
   "metadata": {},
   "outputs": [],
   "source": [
    "var = [1, 2, 3]\n",
    "var[0:1] = []\n",
    "print(var)"
   ]
  },
  {
   "cell_type": "markdown",
   "id": "5f68bd40",
   "metadata": {},
   "source": [
    "슬라이싱을 통해 범위를 지정한 후 빈 리스트([])를 입력하여 해당 부분의 데이터를 삭제할 수도 있다."
   ]
  },
  {
   "cell_type": "code",
   "execution_count": null,
   "id": "c7a6bbb1",
   "metadata": {},
   "outputs": [],
   "source": [
    "var = [1, 2, 3, 1, 2, 3]\n",
    "var.remove(1)\n",
    "print(var)"
   ]
  },
  {
   "cell_type": "markdown",
   "id": "06610443",
   "metadata": {},
   "source": [
    "`remove(x)` 메서드는 리스트에서 첫 번째로 나오는 x를 삭제하는 함수이다. 위 예제에서는 가장 먼저 나오는 1이 삭제된 것을 확인할 수 있다."
   ]
  },
  {
   "cell_type": "code",
   "execution_count": null,
   "id": "44d363b6",
   "metadata": {},
   "outputs": [],
   "source": [
    "var = [1, 2, 3]\n",
    "var.pop()"
   ]
  },
  {
   "cell_type": "code",
   "execution_count": null,
   "id": "362326e9",
   "metadata": {},
   "outputs": [],
   "source": [
    "print(var)"
   ]
  },
  {
   "cell_type": "markdown",
   "id": "e62d36fd",
   "metadata": {},
   "source": [
    "`pop()` 메서드는 리스트의 맨 마지막 요소를 반환하고 해당 요소는 삭제한다. 위 예에서 가장 마지막 요소인 3이 출력되고, var를 확인해보면 최종적으로 [1, 2]만 남아있다.\n",
    "\n",
    "#### 리스트 정렬하기\n",
    "\n",
    "리스트 내의 데이터들은 `sort()` 메서드를 통해 정렬할 수 있다."
   ]
  },
  {
   "cell_type": "code",
   "execution_count": null,
   "id": "b82552bc",
   "metadata": {},
   "outputs": [],
   "source": [
    "var = [2, 4, 1, 3]\n",
    "var.sort()\n",
    "print(var)"
   ]
  },
  {
   "cell_type": "markdown",
   "id": "d36932ca",
   "metadata": {},
   "source": [
    "1부터 4까지의 순서가 무작위로 존재했지만, `sort()`를 입력하면 오름차순으로 정렬된다."
   ]
  },
  {
   "cell_type": "markdown",
   "id": "64fb3387",
   "metadata": {},
   "source": [
    "### 딕셔너리\n",
    "\n",
    "딕셔너리(Dictionary)는 대응 관계를 나타내는 자료형으로써, 리스트나 튜플처럼 순서가 존재하지 않으며 대신 Key와 Value가 존재한다. 딕셔너리는 다음과 같은 형태를 가지고 있다."
   ]
  },
  {
   "cell_type": "code",
   "execution_count": null,
   "id": "5fde47b5",
   "metadata": {
    "deletable": false,
    "editable": false,
    "run_control": {
     "frozen": true
    }
   },
   "outputs": [],
   "source": [
    "{Key1:Value1, Key2:Value2, Key3:Value3, ...}"
   ]
  },
  {
   "cell_type": "markdown",
   "id": "29cc8b08",
   "metadata": {},
   "source": [
    "딕셔너리는 중괄호({ })를 감싸서 표현한다. 키(Key)-값(Value)의 형태로 데이터가 이루어져 있으며, 각각은 쉼표(,)로 구분된다. 예시를 살펴보도록 하자."
   ]
  },
  {
   "cell_type": "code",
   "execution_count": null,
   "id": "f6e114c7",
   "metadata": {},
   "outputs": [],
   "source": [
    "var = {'key1' : 1, 'key2' : 2}\n",
    "print(var)"
   ]
  },
  {
   "cell_type": "markdown",
   "id": "58e1ab5b",
   "metadata": {},
   "source": [
    "키 값이 key1인 곳에는 1이라는 값이, 키 값이 key2인 곳에는 2라는 값이 딕셔너리 형태로 입력되었다."
   ]
  },
  {
   "cell_type": "code",
   "execution_count": null,
   "id": "88103011",
   "metadata": {},
   "outputs": [],
   "source": [
    "var = {'key1': [1, 2, 3], 'key2': ('a', 'b', 'c')}\n",
    "print(var)"
   ]
  },
  {
   "cell_type": "markdown",
   "id": "43398c6b",
   "metadata": {},
   "source": [
    "딕셔너리의 값에는 리스트나 튜플 형태도 입력이 가능하다.\n",
    "\n",
    "#### Key를 사용해 Value 구하기\n",
    "\n",
    "문자열이나 리스트, 튜플의 경우 인덱싱이나 슬라이싱을 통해 요소값을 구할 수 있었지만, 딕셔너리는 순서가 존재하지 않으므로 이러한 방법을 사용할 수 없다. 딕셔너리는 Key를 사용해 이에 해당되는 Value를 얻을 수 있다."
   ]
  },
  {
   "cell_type": "code",
   "execution_count": null,
   "id": "5a7b9e1c",
   "metadata": {},
   "outputs": [],
   "source": [
    "var = {'key1': 1, 'key2': 2, 'key3': 3}\n",
    "var['key1']"
   ]
  },
  {
   "cell_type": "markdown",
   "id": "20ca6b79",
   "metadata": {},
   "source": [
    "먼저 var라는 변수에 딕셔너리를 입력한 후, `var['key1']`을 입력하면 딕셔너리 중 Key값이 key1에 해당하는 데이터의 Value를 반환한다. 즉 딕셔너리 변수에서 [ ] 안의 값은 순서를 뜻하는 것이 아니라 Key 값을 의미한다.\n",
    "\n",
    "#### 쌍 추가하기 및 삭제하기\n",
    "\n",
    "기존 딕셔너리에 쌍을 추가하는 방법과 삭제하는 방법에 대해 살펴보자."
   ]
  },
  {
   "cell_type": "code",
   "execution_count": null,
   "id": "a2ccc85e",
   "metadata": {},
   "outputs": [],
   "source": [
    "var = {'key1': 1, 'key2': 2}\n",
    "var['key3'] = 3\n",
    "print(var)"
   ]
  },
  {
   "cell_type": "markdown",
   "id": "2fa4800d",
   "metadata": {},
   "source": [
    "먼저 key1과 key2로 이루어진 딕셔너리를 만들었다. 그 후 `var['key3'] = 3`을 입력하면 Key는 key3, Value는 3인 딕셔너리 쌍이 추가된다."
   ]
  },
  {
   "cell_type": "code",
   "execution_count": null,
   "id": "546dcd1a",
   "metadata": {},
   "outputs": [],
   "source": [
    "del var['key1']\n",
    "print(var)"
   ]
  },
  {
   "cell_type": "markdown",
   "id": "0c6d7fc7",
   "metadata": {},
   "source": [
    "리스트와 마찬가지로 딕셔너리에서도 `del` 명령어를 사용하면 해당 Key를 가진 딕셔너리 쌍이 삭제된다.\n",
    "\n",
    "#### Key와 Value 구하기\n",
    "\n",
    "이번에는 딕셔너리의 Key와 Value를 한번에 구하는 법에 대해 살펴보자."
   ]
  },
  {
   "cell_type": "code",
   "execution_count": null,
   "id": "25b53c49",
   "metadata": {},
   "outputs": [],
   "source": [
    "var = {'key1': 1, 'key2': 2, 'key3': 3}\n",
    "var.keys()"
   ]
  },
  {
   "cell_type": "markdown",
   "id": "28f66da2",
   "metadata": {},
   "source": [
    "`var.keys()`를 입력하면 var라는 딕셔너리에서 Key만을 모아 dict_keys 객체로 반환한다. 만일 이를 리스트 형태로 만들고자할 때는 다음과 같이 하면 된다."
   ]
  },
  {
   "cell_type": "code",
   "execution_count": null,
   "id": "b3664740",
   "metadata": {},
   "outputs": [],
   "source": [
    "list(var.keys())"
   ]
  },
  {
   "cell_type": "markdown",
   "id": "814f8604",
   "metadata": {},
   "source": [
    "결과를 `list()`로 감싸주면 Key값이 리스트 형태로 출력된다."
   ]
  },
  {
   "cell_type": "code",
   "execution_count": null,
   "id": "89ae57b3",
   "metadata": {},
   "outputs": [],
   "source": [
    "var.values()"
   ]
  },
  {
   "cell_type": "markdown",
   "id": "e0a75bab",
   "metadata": {},
   "source": [
    "`var.values()`는 var라는 딕셔너리에서 값만을 모아 dict_values 객체로 반환한다."
   ]
  },
  {
   "cell_type": "markdown",
   "id": "ffae752d",
   "metadata": {},
   "source": [
    "## 제어문\n",
    "\n",
    "파이썬 프로그래밍은 위에서부터 아래 방향으로 작성된 내용을 순서대로 실행한다. 반면 이러한 흐름을 제어하여 실행 순서를 바꾸거나 여러 번 반복하도록 하는 것이 제어문이다. 파이썬의 제어문에는 크게 if문, while문, for문이 있다.\n",
    "\n",
    "### if 문\n",
    "\n",
    "if문, 혹은 조건문이란 입력된 조건을 판단하여 해당 조건에 맞는 상황을 실행한다. if문의 기본적인 구조는 다음과 같다."
   ]
  },
  {
   "cell_type": "code",
   "execution_count": null,
   "id": "63b55baa",
   "metadata": {
    "deletable": false,
    "editable": false,
    "run_control": {
     "frozen": true
    }
   },
   "outputs": [],
   "source": [
    "if 조건:\n",
    "    실행"
   ]
  },
  {
   "cell_type": "markdown",
   "id": "a410f153",
   "metadata": {},
   "source": [
    "1. `if`를 통해 if문을 선언하고, 바로 뒤에 조건을 입력한 후 콜론(:)을 붙인다.\n",
    "2. 줄바꿈을 해준 후 만일 조건이 True일 경우 실행할 코드를 입력한다. 이 때 조건문 바로 아래부터는 if문에 속하는 문장이므로 들여쓰기를 해주어야 하며, 공백을 4번 입력하거나 탭을 누른다. 만일 들여쓰기가 제대로 되지 않을 경우 오류가 발생한다. \n",
    "\n",
    "예를 살펴보도록 하자."
   ]
  },
  {
   "cell_type": "code",
   "execution_count": null,
   "id": "9d05b4df",
   "metadata": {},
   "outputs": [],
   "source": [
    "x = 2\n",
    "\n",
    "if x > 0:\n",
    "    print('값이 0보다 큽니다.')"
   ]
  },
  {
   "cell_type": "markdown",
   "id": "a50ca893",
   "metadata": {},
   "source": [
    "1. 먼저 x라는 변수에 2라는 숫자를 입력한다.\n",
    "2. `if`를 통해 조건을 선언하며 조건에는 `x > 0`을 설정한 후 콜론을 입력한다.\n",
    "3. 만일 위 조건이 True일 경우 '값이 0보다 큽니다.'를 출력한다.\n",
    "\n",
    "실제 결과를 살펴보자. 2는 0보다 크므로 해당 문장이 출력된다."
   ]
  },
  {
   "cell_type": "code",
   "execution_count": null,
   "id": "fb32c010",
   "metadata": {},
   "outputs": [],
   "source": [
    "x = -1\n",
    "\n",
    "if x > 0:\n",
    "    print('값이 0보다 큽니다.')"
   ]
  },
  {
   "cell_type": "markdown",
   "id": "7e3d3227",
   "metadata": {},
   "source": [
    "반면 위의 경우 코드를 실행해도 아무런 결과가 나타나지 않는다. 이는 x에 입력된 -1이 0보다 작으므로 조건이 False이기 때문이다. 이처럼 조건문이 False일때 실행할 상황은 `else`를 이용한다."
   ]
  },
  {
   "cell_type": "code",
   "execution_count": null,
   "id": "716f4624",
   "metadata": {
    "deletable": false,
    "editable": false,
    "run_control": {
     "frozen": true
    }
   },
   "outputs": [],
   "source": [
    "if 조건:\n",
    "    실행 1\n",
    "else:\n",
    "    실행 2"
   ]
  },
  {
   "cell_type": "markdown",
   "id": "78061541",
   "metadata": {},
   "source": [
    "만일 조건이 True일 경우에는 [실행 1]에 해당하는 코드가 실행되지만, 그렇지 않을 경우 [실행 2]에 해당하는 코드가 실행된다. `if`와 마찬가지로 `else`문 아래의 문장도 들여쓰기를 해주어야 한다."
   ]
  },
  {
   "cell_type": "code",
   "execution_count": null,
   "id": "58af1931",
   "metadata": {},
   "outputs": [],
   "source": [
    "x = -1\n",
    "\n",
    "if x > 0:\n",
    "    print('값이 0보다 큽니다.')\n",
    "else:\n",
    "    print('값이 음수입니다.')"
   ]
  },
  {
   "cell_type": "markdown",
   "id": "4823fcf4",
   "metadata": {},
   "source": [
    "-1이 0보다 작으므로 조건은 False다. 따라서 else에 속하는 '값이 음수입니다.'가 출력된다. 만일 조건이 여러개인 다중 조건을 판단하려면 `if`와 `else` 사이에 `elif`를 추가하면 된다."
   ]
  },
  {
   "cell_type": "code",
   "execution_count": null,
   "id": "fe563d32",
   "metadata": {
    "deletable": false,
    "editable": false,
    "run_control": {
     "frozen": true
    }
   },
   "outputs": [],
   "source": [
    "if 조건 1:\n",
    "    실행 1\n",
    "elif 조건 2:\n",
    "    실행 2\n",
    "elif 조건 3:\n",
    "    실행 3\n",
    "...\n",
    "else:\n",
    "    실행 n"
   ]
  },
  {
   "cell_type": "markdown",
   "id": "a70d143c",
   "metadata": {},
   "source": [
    "`if`의 [조건 1]이 False일 경우 바로 아래의 `elif`를 통해 [조건 2]를 판단한다. 만일 [조건 2]가 True일 경우에는 [실행 2]에 해당하는 코드가 실행되지만, False일 경우에는 다시 [조건 3]을 판단한다. 만일 모든 `elif`의 조건이 False일 경우 최종적으로 [실행 n]에 해당하는 코드가 실행되며, `elif`는 개수에 제한 없이 사용할 수 있다."
   ]
  },
  {
   "cell_type": "code",
   "execution_count": null,
   "id": "ae0ff727",
   "metadata": {
    "scrolled": true
   },
   "outputs": [],
   "source": [
    "x = 3\n",
    "\n",
    "if x >= 10:\n",
    "    print('값이 10보다 큽니다.')\n",
    "elif x >= 0:\n",
    "    print('값이 0 이상 10 미만입니다.')\n",
    "else:\n",
    "    print('값이 음수입니다.')"
   ]
  },
  {
   "cell_type": "markdown",
   "id": "d3d5ef7a",
   "metadata": {},
   "source": [
    "먼저 `if` 조건에서 3은 10 보다 크지 않으므로 조건이 False이며, 이에 해당하는 코드가 실행되지 않는다. 그 후 `elif` 조건에서 3은 0보다 크므로 이에 해당하는 코드인 '값이 0 이상 10 미만입니다.'가 출력된다."
   ]
  },
  {
   "cell_type": "markdown",
   "id": "dcd7d917",
   "metadata": {},
   "source": [
    "[Example] 점수를 입력받아 점수가 90점 이상이면 A, 80점 이상이면 B, 70점 이상이면 C, 70점 미만은 F를 출력하는 프로그램을 작성하세요."
   ]
  },
  {
   "cell_type": "code",
   "execution_count": null,
   "id": "8065bcc1",
   "metadata": {},
   "outputs": [],
   "source": []
  },
  {
   "cell_type": "markdown",
   "id": "6a2fcfff",
   "metadata": {},
   "source": [
    "### while문\n",
    "\n",
    "while문, 혹은 반복문은 특정 조건을 만족하는 동안 반복해서 코드를 실행한다. while문의 기본적인 구조는 다음과 같다."
   ]
  },
  {
   "cell_type": "code",
   "execution_count": null,
   "id": "90bccbbc",
   "metadata": {
    "deletable": false,
    "editable": false,
    "run_control": {
     "frozen": true
    }
   },
   "outputs": [],
   "source": [
    "while 조건:\n",
    "    실행"
   ]
  },
  {
   "cell_type": "markdown",
   "id": "2e81588d",
   "metadata": {},
   "source": [
    "[조건]에 해당하는 부분이 True인 동안에는 [실행]에 해당하는 코드가 반복해서 수행된다. while문도 if문과 마찬가지로 [실행]에 해당하는 부분은 들여쓰기를 해주어야 한다. 예제를 살펴보도록 하자."
   ]
  },
  {
   "cell_type": "code",
   "execution_count": null,
   "id": "510b6ea9",
   "metadata": {},
   "outputs": [],
   "source": [
    "num = 1\n",
    "\n",
    "while num < 5:\n",
    "    print(num)\n",
    "    num = num + 1"
   ]
  },
  {
   "cell_type": "markdown",
   "id": "e2b990cc",
   "metadata": {},
   "source": [
    "1. 먼저 num에 1을 입력한다.\n",
    "2. 만일 num이 5 미만일 경우 아래의 코드를 계속해서 수행한다.\n",
    "3. num을 출력한다.\n",
    "4. num에 1을 더한다.\n",
    "\n",
    "1부터 4까지 숫자가 출력되다가, num이 5가 된 순간에는 while문의 조건이 False 이므로 코드 실행이 종료된다. 만약 `num = num + 1` 부분이 없다면 num은 계속 1인 상태이므로 `print(num)`이 무한대로 실행된다.\n",
    "\n",
    "`while`문 내부에 `if`문을 추가할 수도 있다."
   ]
  },
  {
   "cell_type": "code",
   "execution_count": null,
   "id": "587c3a5e",
   "metadata": {},
   "outputs": [],
   "source": [
    "num = 1\n",
    "\n",
    "while num < 10 :\n",
    "    if num % 2 == 0 :\n",
    "        print(num, '은 짝수입니다.')    \n",
    "    num = num + 1"
   ]
  },
  {
   "cell_type": "markdown",
   "id": "53b8b18a",
   "metadata": {},
   "source": [
    "1. num에 1을 입력한다.\n",
    "2. `while`을 통해 num이 10 미만일 경우 아래의 코드를 계속해서 수행한다.\n",
    "3. `if`를 추가하여 num % 2 == 0일 경우, 즉 나머지가 0일 경우 글자를 출력한다.\n",
    "4. num에 1을 더한다.\n",
    "\n",
    "즉 1부터 9까지 숫자 중, 짝수인 부분만 글자를 출력한다. 만일 코드가 계속해서 실행되다가 특정 조건을 만족할 경우 멈추게 하고 싶을 경우 if문에 `break`를 사용하면 된다."
   ]
  },
  {
   "cell_type": "code",
   "execution_count": null,
   "id": "25efd7ed",
   "metadata": {},
   "outputs": [],
   "source": [
    "money = 1000\n",
    "\n",
    "while True:        \n",
    "    money = money - 100\n",
    "    print('잔액은', money, '원 입니다.')\n",
    "    \n",
    "    if money <= 0 : \n",
    "        break"
   ]
  },
  {
   "cell_type": "markdown",
   "id": "5cbde86d",
   "metadata": {},
   "source": [
    "1. money에 1000을 입력한다.\n",
    "2. `while True`를 통해 코드가 무한히 반복된다.\n",
    "3. money에서 100을 빼준 후, 잔액을 출력한다.\n",
    "4. if문을 통해 잔액이 0 미만일 경우 `break`를 통해 while문을 멈춘다.\n",
    "\n",
    "결과를 살펴보면 잔액이 100원씩 줄어들다가 0원이 된 순간, if문의 조건이 True이므로 break를 통해 while문이 멈추게 된다.\n",
    "\n",
    "### for문\n",
    "\n",
    "for문은 while문과 동일한 반복문이지만, 무한히 반복되는 것이 아닌 특정 횟수만큼만 반복되는 특징이 있다. for문의 기본적인 구조는 다음과 같다."
   ]
  },
  {
   "cell_type": "code",
   "execution_count": null,
   "id": "fd680d2a",
   "metadata": {
    "deletable": false,
    "editable": false,
    "run_control": {
     "frozen": true
    }
   },
   "outputs": [],
   "source": [
    "for 변수 in 리스트(또는 문자열):\n",
    "    실행"
   ]
  },
  {
   "cell_type": "markdown",
   "id": "3fb9b39f",
   "metadata": {},
   "source": [
    "리스트 또는 튜플, 문자열의 첫 번째 요소부터 마지막 요소까지 차례로 변수에 대입된 후 [실행]에 해당하는 코드가 실행되며, 역시나 들여쓰기를 해야한다. 예제를 살펴보도록 하자."
   ]
  },
  {
   "cell_type": "code",
   "execution_count": null,
   "id": "bc317aa0",
   "metadata": {},
   "outputs": [],
   "source": [
    "var = [1, 2, 3]\n",
    "\n",
    "for i in var:\n",
    "    print(i)"
   ]
  },
  {
   "cell_type": "markdown",
   "id": "27d53986",
   "metadata": {},
   "source": [
    "var에 해당하는 [1, 2, 3]의 리스트 중 첫 번째 요소인 1이 먼저 변수 i에 대입된 후 `print(i)`가 실행된다. 그 후 두 번째 요소인 2가 다시 변수 i에 대입되어 `print(i)`가 실행되고, 리스트의 마지막 요소까지 반복된다. \n",
    "\n",
    "for문 역시 if문과 함께 사용할 수 있다."
   ]
  },
  {
   "cell_type": "code",
   "execution_count": null,
   "id": "71f10bba",
   "metadata": {},
   "outputs": [],
   "source": [
    "var = [10, 15, 17, 20]\n",
    "\n",
    "for i in var:\n",
    "    if i % 2 == 0:\n",
    "        print(i, '는 짝수입니다.')\n",
    "    else:\n",
    "        print(i, '는 홀수입니다.')"
   ]
  },
  {
   "cell_type": "markdown",
   "id": "4b6ecc79",
   "metadata": {},
   "source": [
    "1. var에 [10, 15, 17, 20]를 입력한다.\n",
    "2. for문을 통해 var의 요소를 하나씩 i에 대입하여 아래의 코드들을 실행한다.\n",
    "3. if문을 통해 만일 나머지가 0일 경우 '짝수입니다.'라는 글자를, 그렇지 않을 경우 else를 통해 '홀수입니다.'라는 글자를 출력한다.\n",
    "\n",
    "for문은 `range()` 함수와 함께 쓰이는 경우가 많다. `range()` 함수는 숫자(정수) 리스트를 자동으로 만들어준다. "
   ]
  },
  {
   "cell_type": "code",
   "execution_count": null,
   "id": "3e3980f9",
   "metadata": {},
   "outputs": [],
   "source": [
    "range(10)"
   ]
  },
  {
   "cell_type": "markdown",
   "id": "0838b1c2",
   "metadata": {},
   "source": [
    "`range()` 함수 내에 10을 입력할 경우 0부터 10 미만의 숫자에 해당하는 range 객체를 만들어 준다."
   ]
  },
  {
   "cell_type": "code",
   "execution_count": null,
   "id": "e1e43ee1",
   "metadata": {},
   "outputs": [],
   "source": [
    "range(5, 10)"
   ]
  },
  {
   "cell_type": "markdown",
   "id": "23cde1e9",
   "metadata": {},
   "source": [
    "시작과 끝 숫자를 지정할 수도 있다. `range(5, 10)`을 입력하면 5부터 10 미만의 숫자에 해당하는 range 객체를 만들어 준다. `range()` 함수의 예시를 살펴보도록 하자."
   ]
  },
  {
   "cell_type": "code",
   "execution_count": null,
   "id": "d0715e21",
   "metadata": {},
   "outputs": [],
   "source": [
    "for i in range(5):\n",
    "    print(i)"
   ]
  },
  {
   "cell_type": "markdown",
   "id": "22d504e0",
   "metadata": {},
   "source": [
    "`range(5)`는 0부터 5 미만의 숫자 리스트를 의미하며, for문을 통해 요소를 하나씩 출력하였다."
   ]
  },
  {
   "cell_type": "markdown",
   "id": "bafe2a18",
   "metadata": {},
   "source": [
    "### 오류에 대한 예외처리\n",
    "\n",
    "for문을 실행하던 중 오류가 발생하면 작업이 끊겨 루프를 처음부터 다시 실행해야 한다. 대상이 얼마되지 않는다면 큰 문제가 되지 않겠지만, 수십분 혹은 몇시간이 걸리는 작업을 하던 중 오류가 발생해 작업을 처음부터 다시 해야하는 것은 매우 비효율적이다. `try-except`문을 이용하면 예외처리, 즉 오류가 발생할 경우 이를 무시하고 넘어갈 수 있다.\n",
    "\n",
    "try-except문의 구조는 다음과 같다."
   ]
  },
  {
   "cell_type": "code",
   "execution_count": null,
   "id": "99d819d4",
   "metadata": {
    "deletable": false,
    "editable": false,
    "run_control": {
     "frozen": true
    }
   },
   "outputs": [],
   "source": [
    "try:\n",
    "    expr\n",
    "except:\n",
    "    error-handler-code\n",
    "else:\n",
    "    running-code\n",
    "finally:\n",
    "    cleanup-code"
   ]
  },
  {
   "cell_type": "markdown",
   "id": "3f58c10e",
   "metadata": {},
   "source": [
    "1. try 내의 `expr`는 실행하고자 하는 코드를 의미한다.\n",
    "2. except 내의 `error-handler-code`는 오류 발생 시 실행할 코드를 의미한다.\n",
    "3. else 내의 `running-code`는 expr 코드가 문제가 없을 경우 실행되는 코드, finally 내의 `cleanup-code` 코드는 오류 여부와 관계 없이 무조건 수행할 구문을 의미하며, 이 둘은 생략할 수도 있다.\n",
    "\n",
    "예제를 통해 살펴보도록 하자. "
   ]
  },
  {
   "cell_type": "code",
   "execution_count": null,
   "id": "ce5ee6f8",
   "metadata": {},
   "outputs": [],
   "source": [
    "number = [1, 2, 3, \"4\", 5]"
   ]
  },
  {
   "cell_type": "markdown",
   "id": "bf4028eb",
   "metadata": {},
   "source": [
    "먼저 number 변수에는 1에서 5까지 값이 입력되어 있으며, 다른 값들은 형태가 숫자인 반면 4는 문자 형태다."
   ]
  },
  {
   "cell_type": "code",
   "execution_count": null,
   "id": "1f5ac05c",
   "metadata": {
    "deletable": false,
    "editable": false,
    "run_control": {
     "frozen": true
    }
   },
   "outputs": [],
   "source": [
    "for i in number:\n",
    "    print(i ** 2)"
   ]
  },
  {
   "cell_type": "markdown",
   "id": "15ab44da",
   "metadata": {},
   "source": [
    "```{figure} image/python/loop_error.png\n",
    "---\n",
    "name: loop_error\n",
    "---\n",
    "```\n",
    "\n",
    "for문을 통해 순서대로 값들의 제곱을 출력하는 명령어를 실행하면 '문자 4'는 제곱을 할 수 없어 오류가 발생한다. try-except문을 사용하면 이처럼 오류가 발생하는 루프를 무시하고 다음 루프로 넘어갈 수 있다."
   ]
  },
  {
   "cell_type": "code",
   "execution_count": null,
   "id": "ea4dbfb3",
   "metadata": {},
   "outputs": [],
   "source": [
    "for i in number:\n",
    "    try:\n",
    "        print(i ** 2)\n",
    "    except:\n",
    "        print('Error at: ' + i)"
   ]
  },
  {
   "cell_type": "markdown",
   "id": "75b2f5c7",
   "metadata": {},
   "source": [
    "expr 부분은 `print(i ** 2)`이며, error-handler-code 부분은 오류가 발생한 i를 출력한다. 해당 코드를 실행하면 문자 4에서 오류가 발생함을 알려준 후 루프가 멈추지 않고 다음으로 진행된다."
   ]
  },
  {
   "cell_type": "markdown",
   "id": "d3633892",
   "metadata": {},
   "source": [
    "## 함수\n",
    " \n",
    "중고등학교 수학시간에 우리는 함수라는 개념을 배웠다. $y=f(x)$라는 수식이 있을 때 $x$라는 값을 $f()$라는 함수에 입력하면 $y$라는 결과값이 나온다. 예를 들어 다음과 같은 함수가 있다고 생각해보자.\n",
    "\n",
    "$$y = 2x + 1$$\n",
    "\n",
    "만일 $x$에 1을 넣으면 결과는 $2×1 + 1 = 3$ 이며, $x$에 2를 넣으면 결과는 $2×2 + 1 = 5$ 이다.\n",
    "\n",
    "```{figure} image/python/fun.png\n",
    "---\n",
    "name: fun\n",
    "---\n",
    "함수\n",
    "```\n",
    "\n",
    "프로그래밍에서의 함수도 이와 비슷하다. 어떠한 입력값을 함수에 넣으면 이를 토대로 코드가 돌아가고, 그 결과를 반환한다. 함수를 사용하는 이유는 중복된 코드를 계속해서 작성하지 않기 위해서다. 만일 반복적으로 사용하는 코드가 있다면 이를 매번 적기 보다는 함수로 만들어두고, 필요할 때마다 함수를 사용하는 것이 효과적이다. \n",
    "\n",
    "우리는 앞서 `print()`와 같이 수많은 함수를 이미 사용했다. 이처럼 가장 이상적인 방법은 기존에 누군가 작성한 패키지 혹은 함수를 찾아 이용하는 것이지만, 그렇지 못할 경우에도 나만의 함수를 쉽게 만들어 사용할 수 있다. 파이썬에서 함수를 만드는 법은 다음과 같다."
   ]
  },
  {
   "cell_type": "code",
   "execution_count": null,
   "id": "f8fe6b51",
   "metadata": {
    "deletable": false,
    "editable": false,
    "run_control": {
     "frozen": true
    }
   },
   "outputs": [],
   "source": [
    "def f(x):\n",
    "    statement\n",
    "    return y"
   ]
  },
  {
   "cell_type": "markdown",
   "id": "6399a920",
   "metadata": {},
   "source": [
    "1. def 키워드를 통해 함수임을 선언한다.\n",
    "2. f는 함수명을 뜻한다.\n",
    "3. x는 함수에 들어가는 매개변수(Parameter)를 뜻한다.\n",
    "4. 줄을 바꾼 후 들여쓰기를 한다.\n",
    "5. statement에 해당하는 코드가 실행된다.\n",
    "6. return 뒤에 적은 y가 반환되며, 함수가 종료된다.\n",
    "\n",
    "예시로 제곱근을 계산하는 함수를 만들어보자."
   ]
  },
  {
   "cell_type": "code",
   "execution_count": null,
   "id": "1f44e884",
   "metadata": {},
   "outputs": [],
   "source": [
    "def sqrt(x):\n",
    "    res = x**(1 / 2)\n",
    "    return res"
   ]
  },
  {
   "cell_type": "code",
   "execution_count": null,
   "id": "03aca3f0",
   "metadata": {},
   "outputs": [],
   "source": [
    "sqrt(4)"
   ]
  },
  {
   "cell_type": "code",
   "execution_count": null,
   "id": "c05ce0e1",
   "metadata": {},
   "outputs": [],
   "source": [
    "sqrt(9)"
   ]
  },
  {
   "cell_type": "markdown",
   "id": "5e69982c",
   "metadata": {},
   "source": [
    "1. def를 통해 함수를 선언하며, 함수명은 sqrt로 한다.\n",
    "2. 매개변수는 x 하나가 사용된다.\n",
    "3. x ** (1/2)은 $x^{\\frac{1}{2}}$를 뜻하며, 즉 제곱근을 구한다. 이를 res라는 변수에 저장한다.\n",
    "4. 최종적으로 res를 반환한다.\n",
    "\n",
    "만들어진 함수에 4와 9라는 숫자를 넣으면 각각의 제곱근인 2와 3을 출력된다. 참고로 함수에 입력한 4와 9처럼 함수를 호출할 때 전달하는 입력값은 인자(Argument) 혹은 인수라 한다. \n",
    "\n",
    "이번에는 매개변수가 여러개인 함수를 만들어보도록 하자."
   ]
  },
  {
   "cell_type": "code",
   "execution_count": null,
   "id": "539b6f2f",
   "metadata": {},
   "outputs": [],
   "source": [
    "def multiply(x, y):\n",
    "    res = x**y\n",
    "    return res"
   ]
  },
  {
   "cell_type": "code",
   "execution_count": null,
   "id": "e3f80ec3",
   "metadata": {},
   "outputs": [],
   "source": [
    "multiply(x = 3, y = 4)"
   ]
  },
  {
   "cell_type": "code",
   "execution_count": null,
   "id": "0f5ab8c2",
   "metadata": {},
   "outputs": [],
   "source": [
    "multiply(5, 2)"
   ]
  },
  {
   "cell_type": "markdown",
   "id": "7d9dd2a3",
   "metadata": {},
   "source": [
    "매개변수로 x와 y 두개가 사용되었으며, $x^y$를 구하는 함수인 `multiply()`를 만들었다. `multiply(x = 3, y = 4)`와 같이 각 매개변수에 대응되는 인자를 직접 지정할 수도 있지만, `multiply(5, 2)`와 같이 인자만 입력하면 함수에서 정의한 순서에 따라 x에는 5, y에는 2가 대입되어 계산이 된다."
   ]
  },
  {
   "cell_type": "code",
   "execution_count": null,
   "id": "5e07ca41",
   "metadata": {},
   "outputs": [],
   "source": [
    "def divide(x, n=2):\n",
    "    res = x / n\n",
    "    return (res)"
   ]
  },
  {
   "cell_type": "code",
   "execution_count": null,
   "id": "9a61cf7e",
   "metadata": {},
   "outputs": [],
   "source": [
    "divide(3)"
   ]
  },
  {
   "cell_type": "code",
   "execution_count": null,
   "id": "0be37aea",
   "metadata": {},
   "outputs": [],
   "source": [
    "divide(6, 3)"
   ]
  },
  {
   "cell_type": "markdown",
   "id": "a3d00581",
   "metadata": {},
   "source": [
    "이번에는 매개변수 부분에 `n = 2`를 통해 디폴트 값을 설정하였다. 즉 n에 해당하는 부분에 값을 입력하지 않을 경우 n에는 2라는 값이 자동으로 입력된다.\n",
    "\n",
    "위 함수에서는 매개변수가 'x', 'n' 2개가 필요함에도 불구하고 `divide(3)`은 1.5라는 값이 계산되었다. 즉 x에는 3이라는 값이 입력되었지만, n에는 값이 입력되지 않아 디폴트 값인 2가 들어갔으며, 3/2의 결과인 1.5가 계산된다. 반면 `divide(6, 3)`의 경우 n에 3이라는 값을 입력하였으므로 6/3의 결과인 2가 계산되었다."
   ]
  },
  {
   "cell_type": "markdown",
   "id": "8dbfca28",
   "metadata": {},
   "source": [
    "[Example] 두 수를 매개변수로 하여, 두 수를 더한 값을 리턴하는 함수 add를 만들고, 그 함수를 이용하여 3과 5를 더하세요."
   ]
  },
  {
   "cell_type": "code",
   "execution_count": null,
   "id": "6093f24f",
   "metadata": {},
   "outputs": [],
   "source": []
  },
  {
   "cell_type": "markdown",
   "id": "6b1ab182",
   "metadata": {},
   "source": [
    "### 함수와 메서드의 차이\n",
    "\n",
    "파이썬 관련 책을 살펴보면 똑같이 `something()` 형태로 생겼지만 어떤 것은 함수, 어떤 것은 메서드라 불린다. 먼저 함수는 특정 기능을 수행하는 역할을 하며, 각 함수마다 나름의 기능을 가지고 있다. 예를 들어 파이썬의 내장 함수인 `sum()`은 합계를 구한다."
   ]
  },
  {
   "cell_type": "code",
   "execution_count": null,
   "id": "b425be03",
   "metadata": {},
   "outputs": [],
   "source": [
    "sum([1, 2])"
   ]
  },
  {
   "cell_type": "markdown",
   "id": "a855f2c1",
   "metadata": {},
   "source": [
    "특정 패키지에서 제공하는 함수도 있다. pandas의 `DataFrame()` 함수는 데이터프레임을 만드는 역할을 한다."
   ]
  },
  {
   "cell_type": "code",
   "execution_count": null,
   "id": "bf72da87",
   "metadata": {},
   "outputs": [],
   "source": [
    "import pandas as pd\n",
    "df = pd.DataFrame({'x' : [1,2,3]})\n",
    "\n",
    "df"
   ]
  },
  {
   "cell_type": "markdown",
   "id": "0e45566d",
   "metadata": {},
   "source": [
    "반면 메서드는 클래스 및 객체와 연관되어 있는 함수다. `info()` 메서드는 위에서 만든 데이터프레임 객체의 정보를 보여준다."
   ]
  },
  {
   "cell_type": "code",
   "execution_count": null,
   "id": "37fb24ce",
   "metadata": {},
   "outputs": [],
   "source": [
    "df.info()"
   ]
  },
  {
   "cell_type": "markdown",
   "id": "cacfaa8e",
   "metadata": {},
   "source": [
    "각 객체 혹은 자료 구조에 따라 사용할 수 있는 메서드가 다르다. `info()` 메서드는 데이터프레임에는 사용할 수 있지만, 리스트 객체에는 사용할 수 없다."
   ]
  },
  {
   "cell_type": "code",
   "execution_count": null,
   "id": "d4ca84e1",
   "metadata": {
    "deletable": false,
    "editable": false,
    "run_control": {
     "frozen": true
    }
   },
   "outputs": [],
   "source": [
    "lst = [1,2,3]\n",
    "lst.info()"
   ]
  },
  {
   "cell_type": "markdown",
   "id": "e5f57dcc",
   "metadata": {},
   "source": [
    "```{figure} image/quant_intro/list_error.png\n",
    "---\n",
    "name: list_error\n",
    "---\n",
    "```\n",
    "\n",
    "위 코드를 실행하면 **AttributeError: 'list' object has no attribute 'info'** 라는 에러가 뜬다. list 객체는 `info()` 매서드를 보유하고 있지 않아 에러가 발생하는 것이다. 즉 함수는 `sum()`, `pd.DataFrame()`과 같이 독립적으로 사용되는 반면, 메서드는 a라는 특정 객체가 존재할 때 `a.head()`, `a.info()`와 같은 형태로 사용된다."
   ]
  }
 ],
 "metadata": {
  "kernelspec": {
   "display_name": "Python 3 (ipykernel)",
   "language": "python",
   "name": "python3"
  },
  "language_info": {
   "codemirror_mode": {
    "name": "ipython",
    "version": 3
   },
   "file_extension": ".py",
   "mimetype": "text/x-python",
   "name": "python",
   "nbconvert_exporter": "python",
   "pygments_lexer": "ipython3",
   "version": "3.12.2"
  },
  "varInspector": {
   "cols": {
    "lenName": 16,
    "lenType": 16,
    "lenVar": 40
   },
   "kernels_config": {
    "python": {
     "delete_cmd_postfix": "",
     "delete_cmd_prefix": "del ",
     "library": "var_list.py",
     "varRefreshCmd": "print(var_dic_list())"
    },
    "r": {
     "delete_cmd_postfix": ") ",
     "delete_cmd_prefix": "rm(",
     "library": "var_list.r",
     "varRefreshCmd": "cat(var_dic_list()) "
    }
   },
   "types_to_exclude": [
    "module",
    "function",
    "builtin_function_or_method",
    "instance",
    "_Feature"
   ],
   "window_display": false
  }
 },
 "nbformat": 4,
 "nbformat_minor": 5
}
